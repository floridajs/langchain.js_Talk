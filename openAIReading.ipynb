{
  "nbformat": 4,
  "nbformat_minor": 0,
  "metadata": {
    "colab": {
      "provenance": [],
      "gpuType": "T4"
    },
    "kernelspec": {
      "name": "python3",
      "display_name": "Python 3"
    },
    "language_info": {
      "name": "python"
    },
    "accelerator": "GPU"
  },
  "cells": [
    {
      "cell_type": "code",
      "execution_count": null,
      "metadata": {
        "colab": {
          "base_uri": "https://localhost:8080/"
        },
        "id": "TLNFEuDzaFgX",
        "outputId": "2ff68e9f-0d8a-4e13-e7b6-5b4738b656e2"
      },
      "outputs": [
        {
          "output_type": "stream",
          "name": "stdout",
          "text": [
            "Looking in indexes: https://pypi.org/simple, https://us-python.pkg.dev/colab-wheels/public/simple/\n",
            "Requirement already satisfied: python-dotenv in /usr/local/lib/python3.10/dist-packages (1.0.0)\n"
          ]
        }
      ],
      "source": [
        "!pip install python-dotenv\n",
        "!pip -q install langchain openai google-search-results tiktoken\n",
        "!pip -q install kor markdownify"
      ]
    },
    {
      "cell_type": "code",
      "source": [
        "from dotenv import load_dotenv\n",
        "\n",
        "load_dotenv()"
      ],
      "metadata": {
        "colab": {
          "base_uri": "https://localhost:8080/"
        },
        "id": "WRk3W1lBe0jy",
        "outputId": "f1606ff4-c62d-4c95-94e8-8e88f58605dd"
      },
      "execution_count": null,
      "outputs": [
        {
          "output_type": "execute_result",
          "data": {
            "text/plain": [
              "True"
            ]
          },
          "metadata": {},
          "execution_count": 11
        }
      ]
    },
    {
      "cell_type": "code",
      "source": [
        "from dotenv import dotenv_values\n",
        "\n",
        "config = dotenv_values(\".env\")"
      ],
      "metadata": {
        "id": "5MrcXBPde93s"
      },
      "execution_count": null,
      "outputs": []
    },
    {
      "cell_type": "code",
      "source": [
        "import os\n",
        "\n",
        "os.environ[\"OPENAI_API_KEY\"] = config.get('MY_API_KEY')"
      ],
      "metadata": {
        "id": "BzJwM4oxfTfg"
      },
      "execution_count": null,
      "outputs": []
    },
    {
      "cell_type": "code",
      "source": [
        "from typing import List, Optional\n",
        "\n",
        "from langchain.callbacks import get_openai_callback\n",
        "from langchain.chat_models import ChatOpenAI\n",
        "\n",
        "from kor.extraction import create_extraction_chain\n",
        "from kor.nodes import Object, Text, Number\n",
        "\n",
        "import pandas as pd\n",
        "from pydantic import BaseModel, Field, validator\n",
        "from kor import extract_from_documents, from_pydantic, create_extraction_chain\n",
        "\n",
        "\n",
        "from langchain.schema import Document\n",
        "from langchain.text_splitter import RecursiveCharacterTextSplitter\n"
      ],
      "metadata": {
        "id": "feGOvf6ZgJ9l"
      },
      "execution_count": null,
      "outputs": []
    },
    {
      "cell_type": "code",
      "source": [
        "llm = ChatOpenAI(\n",
        " model_name=\"gpt-3.5-turbo\",\n",
        " temperature=0,\n",
        ")"
      ],
      "metadata": {
        "id": "fvobHXCGgRfP"
      },
      "execution_count": null,
      "outputs": []
    },
    {
      "cell_type": "code",
      "source": [
        "model_portfolio_signal_schema = Object(\n",
        " id=\"model_info\",\n",
        " description=\"Information about a given investment model.\",\n",
        " attributes=[\n",
        " Text(\n",
        " id=\"model_name\",\n",
        " description=\"The name of the investment model\",\n",
        " examples=[(\"The HCM ALP Aggresive model is designed for growth oriented investor\", \"HCM ALP Aggresive model\"), (\"The State street tactical allocation model ETF is designed to generate current income\", \"State street tactical allocation model ETF\")],\n",
        " ),\n",
        " Number(\n",
        " id=\"minimum_amount\",\n",
        " description=\"minimum required invesment amount\",\n",
        " examples=[(\"minimum required amount is $25,000\", \"25000\")],\n",
        " ),\n",
        " ],\n",
        " examples=[\n",
        " (\n",
        " \"Vanguard total stock market index fund follows total stock market. Minimum required investment amount is $200,000. Other growth model is Vanguard Small cap growth index in which atleast $30,000 is required\",\n",
        " [\n",
        " {\"model_name\": \"Vanguard total stock market index fund\", \"minimum_amount\": 200000},\n",
        " {\"model_name\": \"Vanguard Small cap growth index\", \"minimum_amount\": 30000},\n",
        " ],\n",
        " )\n",
        " ],\n",
        " many=True,\n",
        ")\n",
        "\n",
        "chain = create_extraction_chain(llm, model_portfolio_signal_schema)"
      ],
      "metadata": {
        "id": "P3f7i1KO03xd"
      },
      "execution_count": null,
      "outputs": []
    },
    {
      "cell_type": "code",
      "source": [
        "print(chain.prompt.format_prompt(text=\"[user input]\").to_string())"
      ],
      "metadata": {
        "colab": {
          "base_uri": "https://localhost:8080/"
        },
        "id": "RYfcmnBv1qT4",
        "outputId": "7bdc5ba5-1fa9-4bc9-fa82-595c9f4e66e1"
      },
      "execution_count": null,
      "outputs": [
        {
          "output_type": "stream",
          "name": "stdout",
          "text": [
            "Your goal is to extract structured information from the user's input that matches the form described below. When extracting information please make sure it matches the type information exactly. Do not add any attributes that do not appear in the schema shown below.\n",
            "\n",
            "```TypeScript\n",
            "\n",
            "model_info: Array<{ // Information about a given investment model.\n",
            " model_name: string // The name of the investment model\n",
            " minimum_amount: number // minimum required invesment amount\n",
            "}>\n",
            "```\n",
            "\n",
            "\n",
            "Please output the extracted information in CSV format in Excel dialect. Please use a | as the delimiter. \n",
            " Do NOT add any clarifying information. Output MUST follow the schema above. Do NOT add any additional columns that do not appear in the schema.\n",
            "\n",
            "\n",
            "\n",
            "Input: Vanguard total stock market index fund follows total stock market. Minimum required investment amount is $200,000. Other growth model is Vanguard Small cap growth index in which atleast $30,000 is required\n",
            "Output: model_name|minimum_amount\n",
            "Vanguard total stock market index fund|200000\n",
            "Vanguard Small cap growth index|30000\n",
            "\n",
            "Input: The HCM ALP Aggresive model is designed for growth oriented investor\n",
            "Output: model_name|minimum_amount\n",
            "HCM ALP Aggresive model|\n",
            "\n",
            "Input: The State street tactical allocation model ETF is designed to generate current income\n",
            "Output: model_name|minimum_amount\n",
            "State street tactical allocation model ETF|\n",
            "\n",
            "Input: minimum required amount is $25,000\n",
            "Output: model_name|minimum_amount\n",
            "|25000\n",
            "\n",
            "Input: [user input]\n",
            "Output:\n"
          ]
        }
      ]
    },
    {
      "cell_type": "code",
      "source": [
        "chain.predict_and_parse(text=\"I can build a portfolio with 2 models Vanguard michell ETF which has $500,000 minimum limit and manny bonds ETF with $100,000 required amount \")[\"data\"]"
      ],
      "metadata": {
        "colab": {
          "base_uri": "https://localhost:8080/"
        },
        "id": "Zcd5zI942ENw",
        "outputId": "ec4f3fa9-4aaf-4fef-dbb4-de8c810d1eab"
      },
      "execution_count": null,
      "outputs": [
        {
          "output_type": "stream",
          "name": "stderr",
          "text": [
            "/usr/local/lib/python3.10/dist-packages/langchain/chains/llm.py:275: UserWarning: The predict_and_parse method is deprecated, instead pass an output parser directly to LLMChain.\n",
            " warnings.warn(\n"
          ]
        },
        {
          "output_type": "execute_result",
          "data": {
            "text/plain": [
              "{'model_info': [{'model_name': 'Vanguard michell ETF',\n",
              " 'minimum_amount': '500000'},\n",
              " {'model_name': 'manny bonds ETF', 'minimum_amount': '100000'}]}"
            ]
          },
          "metadata": {},
          "execution_count": 19
        }
      ]
    }
  ]
}
